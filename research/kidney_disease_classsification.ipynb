{
  "nbformat": 4,
  "nbformat_minor": 0,
  "metadata": {
    "colab": {
      "provenance": [],
      "gpuType": "T4"
    },
    "kernelspec": {
      "name": "python3",
      "display_name": "Python 3"
    },
    "language_info": {
      "name": "python"
    },
    "accelerator": "GPU"
  },
  "cells": [
    {
      "cell_type": "code",
      "execution_count": 1,
      "metadata": {
        "colab": {
          "base_uri": "https://localhost:8080/"
        },
        "id": "0Z20RoPGLbOP",
        "outputId": "c37cf495-30e5-4d15-9a02-36e8593913f3"
      },
      "outputs": [
        {
          "output_type": "stream",
          "name": "stdout",
          "text": [
            "Requirement already satisfied: tensorflow in /usr/local/lib/python3.10/dist-packages (2.15.0)\n",
            "Requirement already satisfied: scikit-learn in /usr/local/lib/python3.10/dist-packages (1.2.2)\n",
            "Requirement already satisfied: numpy in /usr/local/lib/python3.10/dist-packages (1.25.2)\n",
            "Requirement already satisfied: absl-py>=1.0.0 in /usr/local/lib/python3.10/dist-packages (from tensorflow) (1.4.0)\n",
            "Requirement already satisfied: astunparse>=1.6.0 in /usr/local/lib/python3.10/dist-packages (from tensorflow) (1.6.3)\n",
            "Requirement already satisfied: flatbuffers>=23.5.26 in /usr/local/lib/python3.10/dist-packages (from tensorflow) (24.3.25)\n",
            "Requirement already satisfied: gast!=0.5.0,!=0.5.1,!=0.5.2,>=0.2.1 in /usr/local/lib/python3.10/dist-packages (from tensorflow) (0.5.4)\n",
            "Requirement already satisfied: google-pasta>=0.1.1 in /usr/local/lib/python3.10/dist-packages (from tensorflow) (0.2.0)\n",
            "Requirement already satisfied: h5py>=2.9.0 in /usr/local/lib/python3.10/dist-packages (from tensorflow) (3.9.0)\n",
            "Requirement already satisfied: libclang>=13.0.0 in /usr/local/lib/python3.10/dist-packages (from tensorflow) (18.1.1)\n",
            "Requirement already satisfied: ml-dtypes~=0.2.0 in /usr/local/lib/python3.10/dist-packages (from tensorflow) (0.2.0)\n",
            "Requirement already satisfied: opt-einsum>=2.3.2 in /usr/local/lib/python3.10/dist-packages (from tensorflow) (3.3.0)\n",
            "Requirement already satisfied: packaging in /usr/local/lib/python3.10/dist-packages (from tensorflow) (24.0)\n",
            "Requirement already satisfied: protobuf!=4.21.0,!=4.21.1,!=4.21.2,!=4.21.3,!=4.21.4,!=4.21.5,<5.0.0dev,>=3.20.3 in /usr/local/lib/python3.10/dist-packages (from tensorflow) (3.20.3)\n",
            "Requirement already satisfied: setuptools in /usr/local/lib/python3.10/dist-packages (from tensorflow) (67.7.2)\n",
            "Requirement already satisfied: six>=1.12.0 in /usr/local/lib/python3.10/dist-packages (from tensorflow) (1.16.0)\n",
            "Requirement already satisfied: termcolor>=1.1.0 in /usr/local/lib/python3.10/dist-packages (from tensorflow) (2.4.0)\n",
            "Requirement already satisfied: typing-extensions>=3.6.6 in /usr/local/lib/python3.10/dist-packages (from tensorflow) (4.11.0)\n",
            "Requirement already satisfied: wrapt<1.15,>=1.11.0 in /usr/local/lib/python3.10/dist-packages (from tensorflow) (1.14.1)\n",
            "Requirement already satisfied: tensorflow-io-gcs-filesystem>=0.23.1 in /usr/local/lib/python3.10/dist-packages (from tensorflow) (0.37.0)\n",
            "Requirement already satisfied: grpcio<2.0,>=1.24.3 in /usr/local/lib/python3.10/dist-packages (from tensorflow) (1.63.0)\n",
            "Requirement already satisfied: tensorboard<2.16,>=2.15 in /usr/local/lib/python3.10/dist-packages (from tensorflow) (2.15.2)\n",
            "Requirement already satisfied: tensorflow-estimator<2.16,>=2.15.0 in /usr/local/lib/python3.10/dist-packages (from tensorflow) (2.15.0)\n",
            "Requirement already satisfied: keras<2.16,>=2.15.0 in /usr/local/lib/python3.10/dist-packages (from tensorflow) (2.15.0)\n",
            "Requirement already satisfied: scipy>=1.3.2 in /usr/local/lib/python3.10/dist-packages (from scikit-learn) (1.11.4)\n",
            "Requirement already satisfied: joblib>=1.1.1 in /usr/local/lib/python3.10/dist-packages (from scikit-learn) (1.4.2)\n",
            "Requirement already satisfied: threadpoolctl>=2.0.0 in /usr/local/lib/python3.10/dist-packages (from scikit-learn) (3.5.0)\n",
            "Requirement already satisfied: wheel<1.0,>=0.23.0 in /usr/local/lib/python3.10/dist-packages (from astunparse>=1.6.0->tensorflow) (0.43.0)\n",
            "Requirement already satisfied: google-auth<3,>=1.6.3 in /usr/local/lib/python3.10/dist-packages (from tensorboard<2.16,>=2.15->tensorflow) (2.27.0)\n",
            "Requirement already satisfied: google-auth-oauthlib<2,>=0.5 in /usr/local/lib/python3.10/dist-packages (from tensorboard<2.16,>=2.15->tensorflow) (1.2.0)\n",
            "Requirement already satisfied: markdown>=2.6.8 in /usr/local/lib/python3.10/dist-packages (from tensorboard<2.16,>=2.15->tensorflow) (3.6)\n",
            "Requirement already satisfied: requests<3,>=2.21.0 in /usr/local/lib/python3.10/dist-packages (from tensorboard<2.16,>=2.15->tensorflow) (2.31.0)\n",
            "Requirement already satisfied: tensorboard-data-server<0.8.0,>=0.7.0 in /usr/local/lib/python3.10/dist-packages (from tensorboard<2.16,>=2.15->tensorflow) (0.7.2)\n",
            "Requirement already satisfied: werkzeug>=1.0.1 in /usr/local/lib/python3.10/dist-packages (from tensorboard<2.16,>=2.15->tensorflow) (3.0.2)\n",
            "Requirement already satisfied: cachetools<6.0,>=2.0.0 in /usr/local/lib/python3.10/dist-packages (from google-auth<3,>=1.6.3->tensorboard<2.16,>=2.15->tensorflow) (5.3.3)\n",
            "Requirement already satisfied: pyasn1-modules>=0.2.1 in /usr/local/lib/python3.10/dist-packages (from google-auth<3,>=1.6.3->tensorboard<2.16,>=2.15->tensorflow) (0.4.0)\n",
            "Requirement already satisfied: rsa<5,>=3.1.4 in /usr/local/lib/python3.10/dist-packages (from google-auth<3,>=1.6.3->tensorboard<2.16,>=2.15->tensorflow) (4.9)\n",
            "Requirement already satisfied: requests-oauthlib>=0.7.0 in /usr/local/lib/python3.10/dist-packages (from google-auth-oauthlib<2,>=0.5->tensorboard<2.16,>=2.15->tensorflow) (1.3.1)\n",
            "Requirement already satisfied: charset-normalizer<4,>=2 in /usr/local/lib/python3.10/dist-packages (from requests<3,>=2.21.0->tensorboard<2.16,>=2.15->tensorflow) (3.3.2)\n",
            "Requirement already satisfied: idna<4,>=2.5 in /usr/local/lib/python3.10/dist-packages (from requests<3,>=2.21.0->tensorboard<2.16,>=2.15->tensorflow) (3.7)\n",
            "Requirement already satisfied: urllib3<3,>=1.21.1 in /usr/local/lib/python3.10/dist-packages (from requests<3,>=2.21.0->tensorboard<2.16,>=2.15->tensorflow) (2.0.7)\n",
            "Requirement already satisfied: certifi>=2017.4.17 in /usr/local/lib/python3.10/dist-packages (from requests<3,>=2.21.0->tensorboard<2.16,>=2.15->tensorflow) (2024.2.2)\n",
            "Requirement already satisfied: MarkupSafe>=2.1.1 in /usr/local/lib/python3.10/dist-packages (from werkzeug>=1.0.1->tensorboard<2.16,>=2.15->tensorflow) (2.1.5)\n",
            "Requirement already satisfied: pyasn1<0.7.0,>=0.4.6 in /usr/local/lib/python3.10/dist-packages (from pyasn1-modules>=0.2.1->google-auth<3,>=1.6.3->tensorboard<2.16,>=2.15->tensorflow) (0.6.0)\n",
            "Requirement already satisfied: oauthlib>=3.0.0 in /usr/local/lib/python3.10/dist-packages (from requests-oauthlib>=0.7.0->google-auth-oauthlib<2,>=0.5->tensorboard<2.16,>=2.15->tensorflow) (3.2.2)\n"
          ]
        }
      ],
      "source": [
        "pip install tensorflow scikit-learn numpy\n"
      ]
    },
    {
      "cell_type": "code",
      "source": [
        "import zipfile\n",
        "import os\n",
        "\n",
        "def unzip_file(zip_file, extract_dir):\n",
        "    # Check if the target directory exists, if not create it\n",
        "    if not os.path.exists(extract_dir):\n",
        "        os.makedirs(extract_dir)\n",
        "\n",
        "    # Open the zip file\n",
        "    with zipfile.ZipFile(zip_file, 'r') as zip_ref:\n",
        "        # Extract all the contents into the target directory\n",
        "        zip_ref.extractall(extract_dir)\n",
        "\n",
        "# Example usage\n",
        "zip_file = 'kidney_ct_scan_data.zip'\n",
        "extract_dir = 'kidney_ct_scan_data'\n",
        "\n",
        "unzip_file(zip_file, extract_dir)\n"
      ],
      "metadata": {
        "id": "6-KcnaQsPOuX"
      },
      "execution_count": 2,
      "outputs": []
    },
    {
      "cell_type": "code",
      "source": [
        "import os\n",
        "from tensorflow.keras.preprocessing.image import ImageDataGenerator\n",
        "\n",
        "# Define data directories\n",
        "train_dir = '/content/kidney_ct_scan_data/kidney_ct_scan_data/train'\n",
        "test_dir = '/content/kidney_ct_scan_data/kidney_ct_scan_data/test'\n",
        "\n",
        "# Image dimensions\n",
        "img_width, img_height = 224, 224\n",
        "\n",
        "# Rescale images and create data generators\n",
        "train_datagen = ImageDataGenerator(rescale=1./255)\n",
        "test_datagen = ImageDataGenerator(rescale=1./255)\n",
        "\n",
        "train_generator = train_datagen.flow_from_directory(\n",
        "    train_dir,\n",
        "    target_size=(img_width, img_height),\n",
        "    batch_size=32,\n",
        "    class_mode='binary')\n",
        "\n",
        "validation_generator = test_datagen.flow_from_directory(\n",
        "    test_dir,\n",
        "    target_size=(img_width, img_height),\n",
        "    batch_size=32,\n",
        "    class_mode='binary')\n"
      ],
      "metadata": {
        "colab": {
          "base_uri": "https://localhost:8080/"
        },
        "id": "n0VMVPU6PGhH",
        "outputId": "2a387734-45c8-4d5f-a2ad-2fced86068a8"
      },
      "execution_count": 3,
      "outputs": [
        {
          "output_type": "stream",
          "name": "stdout",
          "text": [
            "Found 341 images belonging to 2 classes.\n",
            "Found 124 images belonging to 2 classes.\n"
          ]
        }
      ]
    },
    {
      "cell_type": "code",
      "source": [
        "from tensorflow.keras.applications import VGG16\n",
        "from tensorflow.keras.layers import Dense, Flatten, Dropout\n",
        "from tensorflow.keras.models import Model\n",
        "\n",
        "# Load the VGG16 model without the top layers\n",
        "base_model = VGG16(weights='imagenet', include_top=False, input_shape=(img_width, img_height, 3))\n",
        "\n",
        "# Freeze the pre-trained weights\n",
        "for layer in base_model.layers:\n",
        "    layer.trainable = False\n",
        "\n",
        "# Add custom top layers\n",
        "x = Flatten()(base_model.output)\n",
        "x = Dense(128, activation='relu')(x)\n",
        "x = Dropout(0.5)(x)\n",
        "output = Dense(1, activation='sigmoid')(x)\n",
        "\n",
        "# Create the model\n",
        "model = Model(inputs=base_model.input, outputs=output)\n",
        "\n",
        "# Compile the model\n",
        "model.compile(optimizer='adam', loss='binary_crossentropy', metrics=['accuracy'])\n",
        "\n",
        "model.summary()\n"
      ],
      "metadata": {
        "colab": {
          "base_uri": "https://localhost:8080/"
        },
        "id": "7aig4wBnPfms",
        "outputId": "0b7d3350-e538-4fd0-dbcf-6cebd5ecebe1"
      },
      "execution_count": 4,
      "outputs": [
        {
          "output_type": "stream",
          "name": "stdout",
          "text": [
            "Downloading data from https://storage.googleapis.com/tensorflow/keras-applications/vgg16/vgg16_weights_tf_dim_ordering_tf_kernels_notop.h5\n",
            "58889256/58889256 [==============================] - 0s 0us/step\n",
            "Model: \"model\"\n",
            "_________________________________________________________________\n",
            " Layer (type)                Output Shape              Param #   \n",
            "=================================================================\n",
            " input_1 (InputLayer)        [(None, 224, 224, 3)]     0         \n",
            "                                                                 \n",
            " block1_conv1 (Conv2D)       (None, 224, 224, 64)      1792      \n",
            "                                                                 \n",
            " block1_conv2 (Conv2D)       (None, 224, 224, 64)      36928     \n",
            "                                                                 \n",
            " block1_pool (MaxPooling2D)  (None, 112, 112, 64)      0         \n",
            "                                                                 \n",
            " block2_conv1 (Conv2D)       (None, 112, 112, 128)     73856     \n",
            "                                                                 \n",
            " block2_conv2 (Conv2D)       (None, 112, 112, 128)     147584    \n",
            "                                                                 \n",
            " block2_pool (MaxPooling2D)  (None, 56, 56, 128)       0         \n",
            "                                                                 \n",
            " block3_conv1 (Conv2D)       (None, 56, 56, 256)       295168    \n",
            "                                                                 \n",
            " block3_conv2 (Conv2D)       (None, 56, 56, 256)       590080    \n",
            "                                                                 \n",
            " block3_conv3 (Conv2D)       (None, 56, 56, 256)       590080    \n",
            "                                                                 \n",
            " block3_pool (MaxPooling2D)  (None, 28, 28, 256)       0         \n",
            "                                                                 \n",
            " block4_conv1 (Conv2D)       (None, 28, 28, 512)       1180160   \n",
            "                                                                 \n",
            " block4_conv2 (Conv2D)       (None, 28, 28, 512)       2359808   \n",
            "                                                                 \n",
            " block4_conv3 (Conv2D)       (None, 28, 28, 512)       2359808   \n",
            "                                                                 \n",
            " block4_pool (MaxPooling2D)  (None, 14, 14, 512)       0         \n",
            "                                                                 \n",
            " block5_conv1 (Conv2D)       (None, 14, 14, 512)       2359808   \n",
            "                                                                 \n",
            " block5_conv2 (Conv2D)       (None, 14, 14, 512)       2359808   \n",
            "                                                                 \n",
            " block5_conv3 (Conv2D)       (None, 14, 14, 512)       2359808   \n",
            "                                                                 \n",
            " block5_pool (MaxPooling2D)  (None, 7, 7, 512)         0         \n",
            "                                                                 \n",
            " flatten (Flatten)           (None, 25088)             0         \n",
            "                                                                 \n",
            " dense (Dense)               (None, 128)               3211392   \n",
            "                                                                 \n",
            " dropout (Dropout)           (None, 128)               0         \n",
            "                                                                 \n",
            " dense_1 (Dense)             (None, 1)                 129       \n",
            "                                                                 \n",
            "=================================================================\n",
            "Total params: 17926209 (68.38 MB)\n",
            "Trainable params: 3211521 (12.25 MB)\n",
            "Non-trainable params: 14714688 (56.13 MB)\n",
            "_________________________________________________________________\n"
          ]
        }
      ]
    },
    {
      "cell_type": "code",
      "source": [
        "history = model.fit(\n",
        "    train_generator,\n",
        "    steps_per_epoch=train_generator.samples // train_generator.batch_size,\n",
        "    epochs=100,\n",
        "    validation_data=validation_generator,\n",
        "    validation_steps=validation_generator.samples // validation_generator.batch_size)\n"
      ],
      "metadata": {
        "colab": {
          "base_uri": "https://localhost:8080/"
        },
        "id": "9uxpbIwtPpga",
        "outputId": "2fbc3f6f-178a-4ff7-c2aa-48860b5ccca7"
      },
      "execution_count": 6,
      "outputs": [
        {
          "output_type": "stream",
          "name": "stdout",
          "text": [
            "Epoch 1/100\n",
            "10/10 [==============================] - 6s 683ms/step - loss: 0.2664 - accuracy: 0.9417 - val_loss: 4.5615 - val_accuracy: 0.7396\n",
            "Epoch 2/100\n",
            "10/10 [==============================] - 2s 214ms/step - loss: 1.4394e-04 - accuracy: 1.0000 - val_loss: 5.2149 - val_accuracy: 0.6875\n",
            "Epoch 3/100\n",
            "10/10 [==============================] - 2s 210ms/step - loss: 0.0026 - accuracy: 0.9968 - val_loss: 5.7376 - val_accuracy: 0.7083\n",
            "Epoch 4/100\n",
            "10/10 [==============================] - 3s 312ms/step - loss: 2.2730e-04 - accuracy: 1.0000 - val_loss: 5.2714 - val_accuracy: 0.7396\n",
            "Epoch 5/100\n",
            "10/10 [==============================] - 2s 191ms/step - loss: 2.0540e-04 - accuracy: 1.0000 - val_loss: 4.3235 - val_accuracy: 0.7917\n",
            "Epoch 6/100\n",
            "10/10 [==============================] - 2s 199ms/step - loss: 5.7735e-04 - accuracy: 1.0000 - val_loss: 6.8046 - val_accuracy: 0.6667\n",
            "Epoch 7/100\n",
            "10/10 [==============================] - 2s 211ms/step - loss: 2.2271e-05 - accuracy: 1.0000 - val_loss: 6.0610 - val_accuracy: 0.6979\n",
            "Epoch 8/100\n",
            "10/10 [==============================] - 3s 307ms/step - loss: 2.8398e-05 - accuracy: 1.0000 - val_loss: 4.3369 - val_accuracy: 0.7604\n",
            "Epoch 9/100\n",
            "10/10 [==============================] - 2s 197ms/step - loss: 1.6133e-06 - accuracy: 1.0000 - val_loss: 5.2836 - val_accuracy: 0.7292\n",
            "Epoch 10/100\n",
            "10/10 [==============================] - 2s 218ms/step - loss: 0.0019 - accuracy: 1.0000 - val_loss: 6.0720 - val_accuracy: 0.6979\n",
            "Epoch 11/100\n",
            "10/10 [==============================] - 2s 198ms/step - loss: 5.4416e-06 - accuracy: 1.0000 - val_loss: 6.3134 - val_accuracy: 0.7188\n",
            "Epoch 12/100\n",
            "10/10 [==============================] - 2s 217ms/step - loss: 4.3519e-05 - accuracy: 1.0000 - val_loss: 7.0880 - val_accuracy: 0.6875\n",
            "Epoch 13/100\n",
            "10/10 [==============================] - 2s 227ms/step - loss: 3.6613e-05 - accuracy: 1.0000 - val_loss: 6.9683 - val_accuracy: 0.6875\n",
            "Epoch 14/100\n",
            "10/10 [==============================] - 2s 211ms/step - loss: 0.0103 - accuracy: 0.9968 - val_loss: 6.3932 - val_accuracy: 0.7188\n",
            "Epoch 15/100\n",
            "10/10 [==============================] - 2s 207ms/step - loss: 1.5266e-05 - accuracy: 1.0000 - val_loss: 4.1268 - val_accuracy: 0.7604\n",
            "Epoch 16/100\n",
            "10/10 [==============================] - 2s 215ms/step - loss: 8.7105e-05 - accuracy: 1.0000 - val_loss: 4.7201 - val_accuracy: 0.6979\n",
            "Epoch 17/100\n",
            "10/10 [==============================] - 2s 216ms/step - loss: 4.1535e-07 - accuracy: 1.0000 - val_loss: 5.3079 - val_accuracy: 0.6979\n",
            "Epoch 18/100\n",
            "10/10 [==============================] - 3s 252ms/step - loss: 1.0450e-04 - accuracy: 1.0000 - val_loss: 4.2390 - val_accuracy: 0.7500\n",
            "Epoch 19/100\n",
            "10/10 [==============================] - 2s 207ms/step - loss: 5.5547e-06 - accuracy: 1.0000 - val_loss: 4.8103 - val_accuracy: 0.7188\n",
            "Epoch 20/100\n",
            "10/10 [==============================] - 2s 213ms/step - loss: 3.7984e-07 - accuracy: 1.0000 - val_loss: 4.3895 - val_accuracy: 0.7292\n",
            "Epoch 21/100\n",
            "10/10 [==============================] - 2s 201ms/step - loss: 1.1780e-04 - accuracy: 1.0000 - val_loss: 5.5701 - val_accuracy: 0.6875\n",
            "Epoch 22/100\n",
            "10/10 [==============================] - 3s 251ms/step - loss: 3.6504e-07 - accuracy: 1.0000 - val_loss: 4.9450 - val_accuracy: 0.7292\n",
            "Epoch 23/100\n",
            "10/10 [==============================] - 2s 211ms/step - loss: 7.3459e-07 - accuracy: 1.0000 - val_loss: 4.8654 - val_accuracy: 0.7500\n",
            "Epoch 24/100\n",
            "10/10 [==============================] - 2s 199ms/step - loss: 1.3095e-06 - accuracy: 1.0000 - val_loss: 4.7298 - val_accuracy: 0.7396\n",
            "Epoch 25/100\n",
            "10/10 [==============================] - 2s 203ms/step - loss: 6.7302e-07 - accuracy: 1.0000 - val_loss: 5.3344 - val_accuracy: 0.7083\n",
            "Epoch 26/100\n",
            "10/10 [==============================] - 2s 193ms/step - loss: 6.3773e-07 - accuracy: 1.0000 - val_loss: 4.6788 - val_accuracy: 0.7500\n",
            "Epoch 27/100\n",
            "10/10 [==============================] - 2s 214ms/step - loss: 1.8340e-06 - accuracy: 1.0000 - val_loss: 5.6844 - val_accuracy: 0.6979\n",
            "Epoch 28/100\n",
            "10/10 [==============================] - 3s 245ms/step - loss: 1.7939e-07 - accuracy: 1.0000 - val_loss: 5.0773 - val_accuracy: 0.7292\n",
            "Epoch 29/100\n",
            "10/10 [==============================] - 2s 215ms/step - loss: 3.4459e-07 - accuracy: 1.0000 - val_loss: 5.2456 - val_accuracy: 0.7083\n",
            "Epoch 30/100\n",
            "10/10 [==============================] - 2s 210ms/step - loss: 2.3964e-05 - accuracy: 1.0000 - val_loss: 4.6584 - val_accuracy: 0.7396\n",
            "Epoch 31/100\n",
            "10/10 [==============================] - 2s 216ms/step - loss: 4.9630e-06 - accuracy: 1.0000 - val_loss: 5.2378 - val_accuracy: 0.6979\n",
            "Epoch 32/100\n",
            "10/10 [==============================] - 2s 218ms/step - loss: 1.3679e-06 - accuracy: 1.0000 - val_loss: 5.0602 - val_accuracy: 0.7188\n",
            "Epoch 33/100\n",
            "10/10 [==============================] - 3s 328ms/step - loss: 1.1746e-06 - accuracy: 1.0000 - val_loss: 5.2642 - val_accuracy: 0.7188\n",
            "Epoch 34/100\n",
            "10/10 [==============================] - 2s 204ms/step - loss: 5.8835e-06 - accuracy: 1.0000 - val_loss: 4.4356 - val_accuracy: 0.7396\n",
            "Epoch 35/100\n",
            "10/10 [==============================] - 2s 203ms/step - loss: 5.0947e-06 - accuracy: 1.0000 - val_loss: 4.9546 - val_accuracy: 0.7188\n",
            "Epoch 36/100\n",
            "10/10 [==============================] - 2s 206ms/step - loss: 9.5619e-08 - accuracy: 1.0000 - val_loss: 4.9427 - val_accuracy: 0.7188\n",
            "Epoch 37/100\n",
            "10/10 [==============================] - 2s 198ms/step - loss: 1.7293e-06 - accuracy: 1.0000 - val_loss: 5.7417 - val_accuracy: 0.6979\n",
            "Epoch 38/100\n",
            "10/10 [==============================] - 3s 256ms/step - loss: 1.5149e-05 - accuracy: 1.0000 - val_loss: 5.7625 - val_accuracy: 0.6875\n",
            "Epoch 39/100\n",
            "10/10 [==============================] - 2s 211ms/step - loss: 5.3112e-08 - accuracy: 1.0000 - val_loss: 5.2896 - val_accuracy: 0.7188\n",
            "Epoch 40/100\n",
            "10/10 [==============================] - 2s 210ms/step - loss: 1.5882e-07 - accuracy: 1.0000 - val_loss: 5.1023 - val_accuracy: 0.7188\n",
            "Epoch 41/100\n",
            "10/10 [==============================] - 2s 203ms/step - loss: 5.4514e-08 - accuracy: 1.0000 - val_loss: 5.3339 - val_accuracy: 0.7083\n",
            "Epoch 42/100\n",
            "10/10 [==============================] - 2s 209ms/step - loss: 9.5577e-08 - accuracy: 1.0000 - val_loss: 5.0483 - val_accuracy: 0.7292\n",
            "Epoch 43/100\n",
            "10/10 [==============================] - 2s 216ms/step - loss: 9.8004e-08 - accuracy: 1.0000 - val_loss: 4.8791 - val_accuracy: 0.7188\n",
            "Epoch 44/100\n",
            "10/10 [==============================] - 3s 255ms/step - loss: 3.0966e-08 - accuracy: 1.0000 - val_loss: 4.3085 - val_accuracy: 0.7500\n",
            "Epoch 45/100\n",
            "10/10 [==============================] - 2s 202ms/step - loss: 2.0454e-07 - accuracy: 1.0000 - val_loss: 4.9147 - val_accuracy: 0.7188\n",
            "Epoch 46/100\n",
            "10/10 [==============================] - 2s 211ms/step - loss: 1.5215e-05 - accuracy: 1.0000 - val_loss: 4.7151 - val_accuracy: 0.7396\n",
            "Epoch 47/100\n",
            "10/10 [==============================] - 2s 212ms/step - loss: 1.5298e-07 - accuracy: 1.0000 - val_loss: 4.4223 - val_accuracy: 0.7500\n",
            "Epoch 48/100\n",
            "10/10 [==============================] - 3s 246ms/step - loss: 1.4898e-05 - accuracy: 1.0000 - val_loss: 5.6871 - val_accuracy: 0.6771\n",
            "Epoch 49/100\n",
            "10/10 [==============================] - 2s 207ms/step - loss: 1.8833e-07 - accuracy: 1.0000 - val_loss: 4.9031 - val_accuracy: 0.7292\n",
            "Epoch 50/100\n",
            "10/10 [==============================] - 2s 226ms/step - loss: 7.2415e-08 - accuracy: 1.0000 - val_loss: 5.3915 - val_accuracy: 0.7083\n",
            "Epoch 51/100\n",
            "10/10 [==============================] - 2s 199ms/step - loss: 8.5785e-08 - accuracy: 1.0000 - val_loss: 4.4941 - val_accuracy: 0.7500\n",
            "Epoch 52/100\n",
            "10/10 [==============================] - 2s 213ms/step - loss: 1.2312e-04 - accuracy: 1.0000 - val_loss: 4.5237 - val_accuracy: 0.7396\n",
            "Epoch 53/100\n",
            "10/10 [==============================] - 3s 321ms/step - loss: 1.1944e-07 - accuracy: 1.0000 - val_loss: 5.5495 - val_accuracy: 0.7188\n",
            "Epoch 54/100\n",
            "10/10 [==============================] - 2s 214ms/step - loss: 1.5384e-07 - accuracy: 1.0000 - val_loss: 5.3148 - val_accuracy: 0.7083\n",
            "Epoch 55/100\n",
            "10/10 [==============================] - 2s 228ms/step - loss: 1.4575e-06 - accuracy: 1.0000 - val_loss: 5.8444 - val_accuracy: 0.6771\n",
            "Epoch 56/100\n",
            "10/10 [==============================] - 2s 215ms/step - loss: 6.6721e-07 - accuracy: 1.0000 - val_loss: 4.5605 - val_accuracy: 0.7500\n",
            "Epoch 57/100\n",
            "10/10 [==============================] - 2s 216ms/step - loss: 6.4139e-08 - accuracy: 1.0000 - val_loss: 5.1327 - val_accuracy: 0.7083\n",
            "Epoch 58/100\n",
            "10/10 [==============================] - 2s 242ms/step - loss: 5.3557e-07 - accuracy: 1.0000 - val_loss: 5.6076 - val_accuracy: 0.6875\n",
            "Epoch 59/100\n",
            "10/10 [==============================] - 2s 219ms/step - loss: 1.5799e-09 - accuracy: 1.0000 - val_loss: 4.7986 - val_accuracy: 0.7396\n",
            "Epoch 60/100\n",
            "10/10 [==============================] - 2s 201ms/step - loss: 1.4326e-06 - accuracy: 1.0000 - val_loss: 5.2915 - val_accuracy: 0.7188\n",
            "Epoch 61/100\n",
            "10/10 [==============================] - 2s 198ms/step - loss: 7.1399e-07 - accuracy: 1.0000 - val_loss: 5.2057 - val_accuracy: 0.7292\n",
            "Epoch 62/100\n",
            "10/10 [==============================] - 2s 216ms/step - loss: 1.5085e-07 - accuracy: 1.0000 - val_loss: 5.4721 - val_accuracy: 0.7188\n",
            "Epoch 63/100\n",
            "10/10 [==============================] - 3s 314ms/step - loss: 8.6770e-07 - accuracy: 1.0000 - val_loss: 5.0758 - val_accuracy: 0.7396\n",
            "Epoch 64/100\n",
            "10/10 [==============================] - 3s 318ms/step - loss: 2.0295e-06 - accuracy: 1.0000 - val_loss: 5.8594 - val_accuracy: 0.7188\n",
            "Epoch 65/100\n",
            "10/10 [==============================] - 2s 234ms/step - loss: 6.5637e-07 - accuracy: 1.0000 - val_loss: 5.3970 - val_accuracy: 0.7188\n",
            "Epoch 66/100\n",
            "10/10 [==============================] - 2s 205ms/step - loss: 1.3206e-07 - accuracy: 1.0000 - val_loss: 5.6625 - val_accuracy: 0.6979\n",
            "Epoch 67/100\n",
            "10/10 [==============================] - 3s 330ms/step - loss: 1.1549e-06 - accuracy: 1.0000 - val_loss: 5.9663 - val_accuracy: 0.6979\n",
            "Epoch 68/100\n",
            "10/10 [==============================] - 2s 209ms/step - loss: 3.0296e-07 - accuracy: 1.0000 - val_loss: 5.8381 - val_accuracy: 0.6875\n",
            "Epoch 69/100\n",
            "10/10 [==============================] - 2s 205ms/step - loss: 2.1690e-06 - accuracy: 1.0000 - val_loss: 5.2693 - val_accuracy: 0.7188\n",
            "Epoch 70/100\n",
            "10/10 [==============================] - 2s 207ms/step - loss: 5.1489e-08 - accuracy: 1.0000 - val_loss: 6.0968 - val_accuracy: 0.7083\n",
            "Epoch 71/100\n",
            "10/10 [==============================] - 2s 208ms/step - loss: 8.2671e-06 - accuracy: 1.0000 - val_loss: 5.5352 - val_accuracy: 0.7083\n",
            "Epoch 72/100\n",
            "10/10 [==============================] - 3s 306ms/step - loss: 2.9697e-08 - accuracy: 1.0000 - val_loss: 5.4164 - val_accuracy: 0.6979\n",
            "Epoch 73/100\n",
            "10/10 [==============================] - 2s 205ms/step - loss: 6.5016e-06 - accuracy: 1.0000 - val_loss: 5.2615 - val_accuracy: 0.7083\n",
            "Epoch 74/100\n",
            "10/10 [==============================] - 2s 205ms/step - loss: 1.3529e-06 - accuracy: 1.0000 - val_loss: 6.1279 - val_accuracy: 0.6875\n",
            "Epoch 75/100\n",
            "10/10 [==============================] - 2s 212ms/step - loss: 1.0784e-06 - accuracy: 1.0000 - val_loss: 5.3136 - val_accuracy: 0.7188\n",
            "Epoch 76/100\n",
            "10/10 [==============================] - 2s 210ms/step - loss: 1.7151e-07 - accuracy: 1.0000 - val_loss: 4.8243 - val_accuracy: 0.7396\n",
            "Epoch 77/100\n",
            "10/10 [==============================] - 3s 310ms/step - loss: 5.2062e-07 - accuracy: 1.0000 - val_loss: 5.0534 - val_accuracy: 0.7292\n",
            "Epoch 78/100\n",
            "10/10 [==============================] - 2s 207ms/step - loss: 1.6954e-06 - accuracy: 1.0000 - val_loss: 5.1689 - val_accuracy: 0.7396\n",
            "Epoch 79/100\n",
            "10/10 [==============================] - 2s 221ms/step - loss: 1.5696e-08 - accuracy: 1.0000 - val_loss: 5.6890 - val_accuracy: 0.6979\n",
            "Epoch 80/100\n",
            "10/10 [==============================] - 2s 215ms/step - loss: 9.3516e-07 - accuracy: 1.0000 - val_loss: 4.0861 - val_accuracy: 0.7708\n",
            "Epoch 81/100\n",
            "10/10 [==============================] - 2s 206ms/step - loss: 1.1943e-08 - accuracy: 1.0000 - val_loss: 4.0396 - val_accuracy: 0.7812\n",
            "Epoch 82/100\n",
            "10/10 [==============================] - 2s 238ms/step - loss: 3.7294e-07 - accuracy: 1.0000 - val_loss: 5.6634 - val_accuracy: 0.6875\n",
            "Epoch 83/100\n",
            "10/10 [==============================] - 2s 219ms/step - loss: 8.0200e-08 - accuracy: 1.0000 - val_loss: 5.8115 - val_accuracy: 0.6979\n",
            "Epoch 84/100\n",
            "10/10 [==============================] - 2s 206ms/step - loss: 3.3745e-07 - accuracy: 1.0000 - val_loss: 5.4956 - val_accuracy: 0.7188\n",
            "Epoch 85/100\n",
            "10/10 [==============================] - 2s 220ms/step - loss: 8.3960e-08 - accuracy: 1.0000 - val_loss: 6.1375 - val_accuracy: 0.6875\n",
            "Epoch 86/100\n",
            "10/10 [==============================] - 2s 208ms/step - loss: 6.1405e-07 - accuracy: 1.0000 - val_loss: 5.4886 - val_accuracy: 0.7188\n",
            "Epoch 87/100\n",
            "10/10 [==============================] - 3s 253ms/step - loss: 1.4430e-07 - accuracy: 1.0000 - val_loss: 5.6951 - val_accuracy: 0.6979\n",
            "Epoch 88/100\n",
            "10/10 [==============================] - 2s 210ms/step - loss: 9.3845e-09 - accuracy: 1.0000 - val_loss: 5.1233 - val_accuracy: 0.7188\n",
            "Epoch 89/100\n",
            "10/10 [==============================] - 2s 208ms/step - loss: 3.3113e-07 - accuracy: 1.0000 - val_loss: 4.8780 - val_accuracy: 0.7604\n",
            "Epoch 90/100\n",
            "10/10 [==============================] - 2s 211ms/step - loss: 6.8433e-08 - accuracy: 1.0000 - val_loss: 4.6164 - val_accuracy: 0.7500\n",
            "Epoch 91/100\n",
            "10/10 [==============================] - 2s 218ms/step - loss: 7.4589e-08 - accuracy: 1.0000 - val_loss: 5.5399 - val_accuracy: 0.7083\n",
            "Epoch 92/100\n",
            "10/10 [==============================] - 2s 209ms/step - loss: 8.6435e-07 - accuracy: 1.0000 - val_loss: 5.5444 - val_accuracy: 0.7083\n",
            "Epoch 93/100\n",
            "10/10 [==============================] - 3s 261ms/step - loss: 3.2420e-08 - accuracy: 1.0000 - val_loss: 6.0467 - val_accuracy: 0.6875\n",
            "Epoch 94/100\n",
            "10/10 [==============================] - 2s 204ms/step - loss: 3.4293e-05 - accuracy: 1.0000 - val_loss: 5.1832 - val_accuracy: 0.7604\n",
            "Epoch 95/100\n",
            "10/10 [==============================] - 2s 205ms/step - loss: 1.8963e-09 - accuracy: 1.0000 - val_loss: 5.1633 - val_accuracy: 0.7188\n",
            "Epoch 96/100\n",
            "10/10 [==============================] - 2s 222ms/step - loss: 5.0866e-06 - accuracy: 1.0000 - val_loss: 4.8185 - val_accuracy: 0.7500\n",
            "Epoch 97/100\n",
            "10/10 [==============================] - 2s 218ms/step - loss: 1.9431e-07 - accuracy: 1.0000 - val_loss: 4.6487 - val_accuracy: 0.7396\n",
            "Epoch 98/100\n",
            "10/10 [==============================] - 3s 251ms/step - loss: 1.5197e-08 - accuracy: 1.0000 - val_loss: 5.0531 - val_accuracy: 0.7188\n",
            "Epoch 99/100\n",
            "10/10 [==============================] - 2s 222ms/step - loss: 1.5144e-07 - accuracy: 1.0000 - val_loss: 5.2069 - val_accuracy: 0.7188\n",
            "Epoch 100/100\n",
            "10/10 [==============================] - 2s 204ms/step - loss: 1.5259e-07 - accuracy: 1.0000 - val_loss: 4.8819 - val_accuracy: 0.7292\n"
          ]
        }
      ]
    },
    {
      "cell_type": "code",
      "source": [
        "score = model.evaluate(validation_generator, verbose=0)\n",
        "print('Test loss:', score[0])\n",
        "print('Test accuracy:', score[1])\n"
      ],
      "metadata": {
        "colab": {
          "base_uri": "https://localhost:8080/"
        },
        "id": "SfcqSYvoPvUC",
        "outputId": "86b5d096-189f-46e3-f0e2-92ccb2886096"
      },
      "execution_count": 7,
      "outputs": [
        {
          "output_type": "stream",
          "name": "stdout",
          "text": [
            "Test loss: 5.140483856201172\n",
            "Test accuracy: 0.7177419066429138\n"
          ]
        }
      ]
    },
    {
      "cell_type": "code",
      "source": [
        "model.save('model.h5')"
      ],
      "metadata": {
        "colab": {
          "base_uri": "https://localhost:8080/"
        },
        "id": "-lJtZPvEQ6cH",
        "outputId": "fe9e83ff-ac07-4f16-f9c2-9eadc1486a79"
      },
      "execution_count": 8,
      "outputs": [
        {
          "output_type": "stream",
          "name": "stderr",
          "text": [
            "/usr/local/lib/python3.10/dist-packages/keras/src/engine/training.py:3103: UserWarning: You are saving your model as an HDF5 file via `model.save()`. This file format is considered legacy. We recommend using instead the native Keras format, e.g. `model.save('my_model.keras')`.\n",
            "  saving_api.save_model(\n"
          ]
        }
      ]
    },
    {
      "cell_type": "code",
      "source": [
        "import numpy as np\n",
        "from tensorflow.keras.preprocessing import image\n",
        "from tensorflow.keras.models import load_model"
      ],
      "metadata": {
        "id": "LONZ0d8yTh42"
      },
      "execution_count": 12,
      "outputs": []
    },
    {
      "cell_type": "code",
      "source": [
        "import cv2\n",
        "\n",
        "def preprocess_image(image_path):\n",
        "    img = cv2.imread(image_path)\n",
        "    img = cv2.resize(img, (224, 224))  # Resize the image to match the input shape of the model\n",
        "    img = np.expand_dims(img, axis=0)\n",
        "    return img\n",
        "\n",
        "# Path to the input image you want to predict\n",
        "input_image_path = '/content/kidney_ct_scan_data/kidney_ct_scan_data/test/Normal/Normal- (965).jpg'\n",
        "\n",
        "# Load your trained model\n",
        "model = load_model('model.h5')\n",
        "\n",
        "# Preprocess the input image\n",
        "input_image = preprocess_image(input_image_path)\n",
        "\n",
        "# Make prediction\n",
        "prediction = model.predict(input_image)\n",
        "\n",
        "# Interpret prediction\n",
        "if prediction < 0.5:\n",
        "    print(\"Prediction: Normal\")\n",
        "else:\n",
        "    print(\"Prediction: Tumor\")\n"
      ],
      "metadata": {
        "colab": {
          "base_uri": "https://localhost:8080/"
        },
        "id": "LhKaqJEjQ6ig",
        "outputId": "e240b0e5-e678-4179-e644-e19ef462e815"
      },
      "execution_count": 16,
      "outputs": [
        {
          "output_type": "stream",
          "name": "stdout",
          "text": [
            "1/1 [==============================] - 0s 131ms/step\n",
            "Prediction: Normal\n"
          ]
        }
      ]
    },
    {
      "cell_type": "code",
      "source": [],
      "metadata": {
        "id": "LiGWYp_GTJwT"
      },
      "execution_count": null,
      "outputs": []
    }
  ]
}